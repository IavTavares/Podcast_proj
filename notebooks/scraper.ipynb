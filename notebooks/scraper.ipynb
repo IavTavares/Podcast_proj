{
 "cells": [
  {
   "cell_type": "code",
   "execution_count": 1,
   "metadata": {},
   "outputs": [],
   "source": [
    "import requests\n",
    "import json\n",
    "import re"
   ]
  },
  {
   "cell_type": "code",
   "execution_count": 2,
   "metadata": {},
   "outputs": [],
   "source": [
    "URL = \"https://www.radiofrance.fr\"\n",
    "url_affaires = \"https://www.radiofrance.fr/franceculture/podcasts/affaires-etrangeres\"\n",
    "url_concordance = \"https://www.radiofrance.fr/franceculture/podcasts/concordance-des-temps\"\n",
    "url_culture = \"https://www.radiofrance.fr/franceculture/podcasts/cultures-monde\"\n",
    "url_eco = \"https://www.radiofrance.fr/franceculture/podcasts/entendez-vous-l-eco\""
   ]
  },
  {
   "cell_type": "code",
   "execution_count": 119,
   "metadata": {},
   "outputs": [],
   "source": [
    "folder_path_affaires = \"data/affaires_etrangeres\"\n",
    "folder_path_concordance = \"data/concordance_des_temps\"\n",
    "folder_path_culture = \"data/culture_monde\"\n",
    "folder_path_eco = \"data/entendez_eco\""
   ]
  },
  {
   "cell_type": "code",
   "execution_count": 3,
   "metadata": {},
   "outputs": [],
   "source": [
    "from bs4 import BeautifulSoup"
   ]
  },
  {
   "cell_type": "code",
   "execution_count": 6,
   "metadata": {},
   "outputs": [],
   "source": [
    "def episode_list(podcast_url):\n",
    "    page = requests.get(podcast_url)\n",
    "    soup = BeautifulSoup(page.content, 'html.parser')\n",
    "    results = soup.find_all(\"div\", class_=\"CardDetails-title svelte-690u24\")\n",
    "    list_ep = []\n",
    "    for result in results:\n",
    "        link = result.find(\"a\")\n",
    "        episode_url = URL + link.attrs[\"href\"]\n",
    "        list_ep.append(episode_url)\n",
    "    return list_ep\n",
    "\n",
    "ep_list_concordance = episode_list(url_concordance)\n"
   ]
  },
  {
   "cell_type": "code",
   "execution_count": 108,
   "metadata": {},
   "outputs": [
    {
     "data": {
      "text/plain": [
       "'https://www.radiofrance.fr/franceculture/podcasts/concordance-des-temps/sites-de-rencontre-et-petites-annonces-une-perennite-0-3409483'"
      ]
     },
     "execution_count": 108,
     "metadata": {},
     "output_type": "execute_result"
    }
   ],
   "source": [
    "episode_page = requests.get(ep_list_concordance[0])\n",
    "ep_list_concordance[2]"
   ]
  },
  {
   "cell_type": "code",
   "execution_count": 102,
   "metadata": {},
   "outputs": [],
   "source": [
    "def file_name(episode_url):\n",
    "    string = re.search(r\"([^\\/]+$)\", episode_url).group()\n",
    "    res = string.strip(\"-0123456789\")+\".mp3\"\n",
    "    return res"
   ]
  },
  {
   "cell_type": "code",
   "execution_count": 104,
   "metadata": {},
   "outputs": [
    {
     "data": {
      "text/plain": [
       "'sites-de-rencontre-et-petites-annonces-une-perennite.mp3'"
      ]
     },
     "execution_count": 104,
     "metadata": {},
     "output_type": "execute_result"
    }
   ],
   "source": [
    "file_name(ep_list_concordance[2])"
   ]
  },
  {
   "cell_type": "code",
   "execution_count": 83,
   "metadata": {},
   "outputs": [],
   "source": [
    "\n",
    "def episode_mp3_list(episode_url):\n",
    "    episode_page = requests.get(episode_url)# ep_list_concordance[0])\n",
    "    soup = BeautifulSoup(episode_page.content, 'html.parser')\n",
    "    results = soup.find_all(type=\"application/ld+json\")\n",
    "    mp3_list = []\n",
    "    for res in results:\n",
    "        if \"mp3\" in res.text:\n",
    "            json_dict= json.loads(\"\".join(res))\n",
    "            ep_mp3_url = json_dict['@graph'][0][\"mainEntity\"][\"contentUrl\"]\n",
    "            mp3_list.append(ep_mp3_url)\n",
    "    return mp3_list\n",
    "        "
   ]
  },
  {
   "cell_type": "code",
   "execution_count": 105,
   "metadata": {},
   "outputs": [],
   "source": [
    "mp3_url_list = episode_mp3_list(ep_list_concordance[2])\n",
    "name = file_name(ep_list_concordance[2])"
   ]
  },
  {
   "cell_type": "code",
   "execution_count": 88,
   "metadata": {},
   "outputs": [
    {
     "name": "stdout",
     "output_type": "stream",
     "text": [
      "audio/mpeg\n"
     ]
    }
   ],
   "source": [
    "r = requests.get(mp3_url_list[0], allow_redirects=True)\n",
    "print(r.headers.get('content-type'))\n"
   ]
  },
  {
   "cell_type": "code",
   "execution_count": null,
   "metadata": {},
   "outputs": [],
   "source": [
    "import logging"
   ]
  },
  {
   "cell_type": "code",
   "execution_count": 120,
   "metadata": {},
   "outputs": [],
   "source": [
    "def download_mp3(list_episodes:list, folder_path:str):\n",
    "        for episode_url in list_episodes:\n",
    "                episode_mp3 = episode_mp3_list(episode_url)[0]\n",
    "                r = requests.get(episode_mp3, allow_redirects=True)\n",
    "                name = file_name(episode_url)\n",
    "                if r.headers.get('content-type')==\"audio/mpeg\":\n",
    "                        with open(folder_path+\"/\"+name, 'wb') as f:\n",
    "                                f.write(r.content)\n",
    "                else:\n",
    "                        print(f\"No audio/mpeg file was downloaded for {name}!\")"
   ]
  },
  {
   "cell_type": "code",
   "execution_count": 121,
   "metadata": {},
   "outputs": [
    {
     "ename": "FileNotFoundError",
     "evalue": "[Errno 2] No such file or directory: 'data/concordance_des_temps/la-silhouette-aux-origines-d-une-obsession.mp3'",
     "output_type": "error",
     "traceback": [
      "\u001b[0;31m---------------------------------------------------------------------------\u001b[0m",
      "\u001b[0;31mFileNotFoundError\u001b[0m                         Traceback (most recent call last)",
      "\u001b[1;32m/home/ivo/Programming_Personal_Projects/Podcast_proj/notebooks/scraper.ipynb Cell 14\u001b[0m in \u001b[0;36m<cell line: 1>\u001b[0;34m()\u001b[0m\n\u001b[0;32m----> <a href='vscode-notebook-cell:/home/ivo/Programming_Personal_Projects/Podcast_proj/notebooks/scraper.ipynb#ch0000028?line=0'>1</a>\u001b[0m download_mp3(ep_list_concordance,folder_path_concordance)\n",
      "\u001b[1;32m/home/ivo/Programming_Personal_Projects/Podcast_proj/notebooks/scraper.ipynb Cell 14\u001b[0m in \u001b[0;36mdownload_mp3\u001b[0;34m(list_episodes, folder_path)\u001b[0m\n\u001b[1;32m      <a href='vscode-notebook-cell:/home/ivo/Programming_Personal_Projects/Podcast_proj/notebooks/scraper.ipynb#ch0000028?line=4'>5</a>\u001b[0m name \u001b[39m=\u001b[39m file_name(episode_url)\n\u001b[1;32m      <a href='vscode-notebook-cell:/home/ivo/Programming_Personal_Projects/Podcast_proj/notebooks/scraper.ipynb#ch0000028?line=5'>6</a>\u001b[0m \u001b[39mif\u001b[39;00m r\u001b[39m.\u001b[39mheaders\u001b[39m.\u001b[39mget(\u001b[39m'\u001b[39m\u001b[39mcontent-type\u001b[39m\u001b[39m'\u001b[39m)\u001b[39m==\u001b[39m\u001b[39m\"\u001b[39m\u001b[39maudio/mpeg\u001b[39m\u001b[39m\"\u001b[39m:\n\u001b[0;32m----> <a href='vscode-notebook-cell:/home/ivo/Programming_Personal_Projects/Podcast_proj/notebooks/scraper.ipynb#ch0000028?line=6'>7</a>\u001b[0m         \u001b[39mwith\u001b[39;00m \u001b[39mopen\u001b[39;49m(folder_path\u001b[39m+\u001b[39;49m\u001b[39m\"\u001b[39;49m\u001b[39m/\u001b[39;49m\u001b[39m\"\u001b[39;49m\u001b[39m+\u001b[39;49mname, \u001b[39m'\u001b[39;49m\u001b[39mwb\u001b[39;49m\u001b[39m'\u001b[39;49m) \u001b[39mas\u001b[39;00m f:\n\u001b[1;32m      <a href='vscode-notebook-cell:/home/ivo/Programming_Personal_Projects/Podcast_proj/notebooks/scraper.ipynb#ch0000028?line=7'>8</a>\u001b[0m                 f\u001b[39m.\u001b[39mwrite(r\u001b[39m.\u001b[39mcontent)\n\u001b[1;32m      <a href='vscode-notebook-cell:/home/ivo/Programming_Personal_Projects/Podcast_proj/notebooks/scraper.ipynb#ch0000028?line=8'>9</a>\u001b[0m \u001b[39melse\u001b[39;00m:\n",
      "\u001b[0;31mFileNotFoundError\u001b[0m: [Errno 2] No such file or directory: 'data/concordance_des_temps/la-silhouette-aux-origines-d-une-obsession.mp3'"
     ]
    }
   ],
   "source": [
    "download_mp3(ep_list_concordance,folder_path_concordance)"
   ]
  },
  {
   "cell_type": "code",
   "execution_count": null,
   "metadata": {},
   "outputs": [],
   "source": []
  }
 ],
 "metadata": {
  "kernelspec": {
   "display_name": "Python 3.10.4 ('.env_podcast': venv)",
   "language": "python",
   "name": "python3"
  },
  "language_info": {
   "codemirror_mode": {
    "name": "ipython",
    "version": 3
   },
   "file_extension": ".py",
   "mimetype": "text/x-python",
   "name": "python",
   "nbconvert_exporter": "python",
   "pygments_lexer": "ipython3",
   "version": "3.10.4"
  },
  "orig_nbformat": 4,
  "vscode": {
   "interpreter": {
    "hash": "c9ffd5738ae551057ab3b2b628d31bd5c82a1ce1d93b633c639fb974b4f200f8"
   }
  }
 },
 "nbformat": 4,
 "nbformat_minor": 2
}
