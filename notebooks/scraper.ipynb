{
 "cells": [
  {
   "cell_type": "code",
   "execution_count": 1,
   "metadata": {},
   "outputs": [],
   "source": [
    "import requests"
   ]
  },
  {
   "cell_type": "code",
   "execution_count": 2,
   "metadata": {},
   "outputs": [],
   "source": [
    "URL = \"https://www.radiofrance.fr\"\n",
    "url_affaires = \"https://www.radiofrance.fr/franceculture/podcasts/affaires-etrangeres\"\n",
    "url_concordance = \"https://www.radiofrance.fr/franceculture/podcasts/concordance-des-temps\"\n",
    "url_culture = \"https://www.radiofrance.fr/franceculture/podcasts/cultures-monde\"\n",
    "url_eco = \"https://www.radiofrance.fr/franceculture/podcasts/entendez-vous-l-eco\""
   ]
  },
  {
   "cell_type": "code",
   "execution_count": 3,
   "metadata": {},
   "outputs": [],
   "source": [
    "from bs4 import BeautifulSoup"
   ]
  },
  {
   "cell_type": "code",
   "execution_count": 6,
   "metadata": {},
   "outputs": [],
   "source": [
    "def episode_list(podcast_url):\n",
    "    page = requests.get(podcast_url)\n",
    "    soup = BeautifulSoup(page.content, 'html.parser')\n",
    "    results = soup.find_all(\"div\", class_=\"CardDetails-title svelte-690u24\")\n",
    "    list_ep = []\n",
    "    for result in results:\n",
    "        link = result.find(\"a\")\n",
    "        episode_url = URL + link.attrs[\"href\"]\n",
    "        list_ep.append(episode_url)\n",
    "    return list_ep\n",
    "\n",
    "ep_list_concordance = episode_list(url_concordance)\n"
   ]
  },
  {
   "cell_type": "code",
   "execution_count": 11,
   "metadata": {},
   "outputs": [
    {
     "data": {
      "text/plain": [
       "'https://www.radiofrance.fr/franceculture/podcasts/concordance-des-temps/la-silhouette-aux-origines-d-une-obsession-1487367'"
      ]
     },
     "execution_count": 11,
     "metadata": {},
     "output_type": "execute_result"
    }
   ],
   "source": [
    "episode_page = requests.get(ep_list_concordance[0])\n",
    "ep_list_concordance[0]"
   ]
  },
  {
   "cell_type": "code",
   "execution_count": 8,
   "metadata": {},
   "outputs": [],
   "source": [
    "soup = BeautifulSoup(episode_page.content, 'html.parser')"
   ]
  },
  {
   "cell_type": "code",
   "execution_count": 13,
   "metadata": {},
   "outputs": [
    {
     "data": {
      "text/plain": [
       "[]"
      ]
     },
     "execution_count": 13,
     "metadata": {},
     "output_type": "execute_result"
    }
   ],
   "source": [
    "results = soup.find_all(\"contentUrl\", class_=\"CardDetails-title svelte-690u24\")\n",
    "results"
   ]
  },
  {
   "cell_type": "code",
   "execution_count": null,
   "metadata": {},
   "outputs": [],
   "source": []
  }
 ],
 "metadata": {
  "kernelspec": {
   "display_name": "Python 3.10.4 ('.env_podcast': venv)",
   "language": "python",
   "name": "python3"
  },
  "language_info": {
   "codemirror_mode": {
    "name": "ipython",
    "version": 3
   },
   "file_extension": ".py",
   "mimetype": "text/x-python",
   "name": "python",
   "nbconvert_exporter": "python",
   "pygments_lexer": "ipython3",
   "version": "3.10.4"
  },
  "orig_nbformat": 4,
  "vscode": {
   "interpreter": {
    "hash": "c9ffd5738ae551057ab3b2b628d31bd5c82a1ce1d93b633c639fb974b4f200f8"
   }
  }
 },
 "nbformat": 4,
 "nbformat_minor": 2
}
